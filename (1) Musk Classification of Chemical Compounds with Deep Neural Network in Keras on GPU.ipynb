{
 "cells": [
  {
   "cell_type": "raw",
   "metadata": {},
   "source": [
    "This task is submitted by Ajay Chouhan\n",
    "Linkedin - https://www.linkedin.com/in/ajay-chouhan-22594a170/\n",
    "github - https://github.com/ajaychouhan-nitbhopal/"
   ]
  },
  {
   "cell_type": "markdown",
   "metadata": {},
   "source": [
    "# Importing Libraries"
   ]
  },
  {
   "cell_type": "code",
   "execution_count": 32,
   "metadata": {},
   "outputs": [],
   "source": [
    "import pandas as pd\n",
    "import numpy as np\n",
    "import matplotlib.pyplot as plt\n",
    "from sklearn.model_selection import train_test_split\n",
    "import tensorflow as tf\n",
    "from tensorflow.keras.models import Sequential\n",
    "from tensorflow.keras.layers import Dense\n",
    "from tensorflow.keras.utils import to_categorical\n",
    "from sklearn.metrics import confusion_matrix, f1_score, precision_score, recall_score\n",
    "import random"
   ]
  },
  {
   "cell_type": "code",
   "execution_count": 2,
   "metadata": {},
   "outputs": [],
   "source": [
    "# setting random seed\n",
    "random.seed(0)"
   ]
  },
  {
   "cell_type": "markdown",
   "metadata": {},
   "source": [
    "# EDA"
   ]
  },
  {
   "cell_type": "code",
   "execution_count": 3,
   "metadata": {},
   "outputs": [
    {
     "data": {
      "text/html": [
       "<div>\n",
       "<style scoped>\n",
       "    .dataframe tbody tr th:only-of-type {\n",
       "        vertical-align: middle;\n",
       "    }\n",
       "\n",
       "    .dataframe tbody tr th {\n",
       "        vertical-align: top;\n",
       "    }\n",
       "\n",
       "    .dataframe thead th {\n",
       "        text-align: right;\n",
       "    }\n",
       "</style>\n",
       "<table border=\"1\" class=\"dataframe\">\n",
       "  <thead>\n",
       "    <tr style=\"text-align: right;\">\n",
       "      <th></th>\n",
       "      <th>ID</th>\n",
       "      <th>molecule_name</th>\n",
       "      <th>conformation_name</th>\n",
       "      <th>f1</th>\n",
       "      <th>f2</th>\n",
       "      <th>f3</th>\n",
       "      <th>f4</th>\n",
       "      <th>f5</th>\n",
       "      <th>f6</th>\n",
       "      <th>f7</th>\n",
       "      <th>...</th>\n",
       "      <th>f158</th>\n",
       "      <th>f159</th>\n",
       "      <th>f160</th>\n",
       "      <th>f161</th>\n",
       "      <th>f162</th>\n",
       "      <th>f163</th>\n",
       "      <th>f164</th>\n",
       "      <th>f165</th>\n",
       "      <th>f166</th>\n",
       "      <th>class</th>\n",
       "    </tr>\n",
       "  </thead>\n",
       "  <tbody>\n",
       "    <tr>\n",
       "      <th>0</th>\n",
       "      <td>1</td>\n",
       "      <td>MUSK-211</td>\n",
       "      <td>211_1+1</td>\n",
       "      <td>46</td>\n",
       "      <td>-108</td>\n",
       "      <td>-60</td>\n",
       "      <td>-69</td>\n",
       "      <td>-117</td>\n",
       "      <td>49</td>\n",
       "      <td>38</td>\n",
       "      <td>...</td>\n",
       "      <td>-308</td>\n",
       "      <td>52</td>\n",
       "      <td>-7</td>\n",
       "      <td>39</td>\n",
       "      <td>126</td>\n",
       "      <td>156</td>\n",
       "      <td>-50</td>\n",
       "      <td>-112</td>\n",
       "      <td>96</td>\n",
       "      <td>1</td>\n",
       "    </tr>\n",
       "    <tr>\n",
       "      <th>1</th>\n",
       "      <td>2</td>\n",
       "      <td>MUSK-211</td>\n",
       "      <td>211_1+10</td>\n",
       "      <td>41</td>\n",
       "      <td>-188</td>\n",
       "      <td>-145</td>\n",
       "      <td>22</td>\n",
       "      <td>-117</td>\n",
       "      <td>-6</td>\n",
       "      <td>57</td>\n",
       "      <td>...</td>\n",
       "      <td>-59</td>\n",
       "      <td>-2</td>\n",
       "      <td>52</td>\n",
       "      <td>103</td>\n",
       "      <td>136</td>\n",
       "      <td>169</td>\n",
       "      <td>-61</td>\n",
       "      <td>-136</td>\n",
       "      <td>79</td>\n",
       "      <td>1</td>\n",
       "    </tr>\n",
       "    <tr>\n",
       "      <th>2</th>\n",
       "      <td>3</td>\n",
       "      <td>MUSK-211</td>\n",
       "      <td>211_1+11</td>\n",
       "      <td>46</td>\n",
       "      <td>-194</td>\n",
       "      <td>-145</td>\n",
       "      <td>28</td>\n",
       "      <td>-117</td>\n",
       "      <td>73</td>\n",
       "      <td>57</td>\n",
       "      <td>...</td>\n",
       "      <td>-134</td>\n",
       "      <td>-154</td>\n",
       "      <td>57</td>\n",
       "      <td>143</td>\n",
       "      <td>142</td>\n",
       "      <td>165</td>\n",
       "      <td>-67</td>\n",
       "      <td>-145</td>\n",
       "      <td>39</td>\n",
       "      <td>1</td>\n",
       "    </tr>\n",
       "    <tr>\n",
       "      <th>3</th>\n",
       "      <td>4</td>\n",
       "      <td>MUSK-211</td>\n",
       "      <td>211_1+12</td>\n",
       "      <td>41</td>\n",
       "      <td>-188</td>\n",
       "      <td>-145</td>\n",
       "      <td>22</td>\n",
       "      <td>-117</td>\n",
       "      <td>-7</td>\n",
       "      <td>57</td>\n",
       "      <td>...</td>\n",
       "      <td>-60</td>\n",
       "      <td>-4</td>\n",
       "      <td>52</td>\n",
       "      <td>104</td>\n",
       "      <td>136</td>\n",
       "      <td>168</td>\n",
       "      <td>-60</td>\n",
       "      <td>-135</td>\n",
       "      <td>80</td>\n",
       "      <td>1</td>\n",
       "    </tr>\n",
       "    <tr>\n",
       "      <th>4</th>\n",
       "      <td>5</td>\n",
       "      <td>MUSK-211</td>\n",
       "      <td>211_1+13</td>\n",
       "      <td>41</td>\n",
       "      <td>-188</td>\n",
       "      <td>-145</td>\n",
       "      <td>22</td>\n",
       "      <td>-117</td>\n",
       "      <td>-7</td>\n",
       "      <td>57</td>\n",
       "      <td>...</td>\n",
       "      <td>-60</td>\n",
       "      <td>-4</td>\n",
       "      <td>52</td>\n",
       "      <td>104</td>\n",
       "      <td>137</td>\n",
       "      <td>168</td>\n",
       "      <td>-60</td>\n",
       "      <td>-135</td>\n",
       "      <td>80</td>\n",
       "      <td>1</td>\n",
       "    </tr>\n",
       "  </tbody>\n",
       "</table>\n",
       "<p>5 rows × 170 columns</p>\n",
       "</div>"
      ],
      "text/plain": [
       "   ID molecule_name conformation_name  f1   f2   f3  f4   f5  f6  f7  ...  \\\n",
       "0   1      MUSK-211           211_1+1  46 -108  -60 -69 -117  49  38  ...   \n",
       "1   2      MUSK-211          211_1+10  41 -188 -145  22 -117  -6  57  ...   \n",
       "2   3      MUSK-211          211_1+11  46 -194 -145  28 -117  73  57  ...   \n",
       "3   4      MUSK-211          211_1+12  41 -188 -145  22 -117  -7  57  ...   \n",
       "4   5      MUSK-211          211_1+13  41 -188 -145  22 -117  -7  57  ...   \n",
       "\n",
       "   f158  f159  f160  f161  f162  f163  f164  f165  f166  class  \n",
       "0  -308    52    -7    39   126   156   -50  -112    96      1  \n",
       "1   -59    -2    52   103   136   169   -61  -136    79      1  \n",
       "2  -134  -154    57   143   142   165   -67  -145    39      1  \n",
       "3   -60    -4    52   104   136   168   -60  -135    80      1  \n",
       "4   -60    -4    52   104   137   168   -60  -135    80      1  \n",
       "\n",
       "[5 rows x 170 columns]"
      ]
     },
     "execution_count": 3,
     "metadata": {},
     "output_type": "execute_result"
    }
   ],
   "source": [
    "df = pd.read_csv('musk_csv.csv')\n",
    "df.head()"
   ]
  },
  {
   "cell_type": "code",
   "execution_count": 4,
   "metadata": {},
   "outputs": [
    {
     "data": {
      "text/plain": [
       "ID                   0\n",
       "molecule_name        0\n",
       "conformation_name    0\n",
       "f1                   0\n",
       "f2                   0\n",
       "                    ..\n",
       "f163                 0\n",
       "f164                 0\n",
       "f165                 0\n",
       "f166                 0\n",
       "class                0\n",
       "Length: 170, dtype: int64"
      ]
     },
     "execution_count": 4,
     "metadata": {},
     "output_type": "execute_result"
    }
   ],
   "source": [
    "df.isnull().sum()"
   ]
  },
  {
   "cell_type": "code",
   "execution_count": 5,
   "metadata": {},
   "outputs": [
    {
     "data": {
      "text/plain": [
       "(6598, 170)"
      ]
     },
     "execution_count": 5,
     "metadata": {},
     "output_type": "execute_result"
    }
   ],
   "source": [
    "df.shape"
   ]
  },
  {
   "cell_type": "code",
   "execution_count": 6,
   "metadata": {},
   "outputs": [
    {
     "data": {
      "text/html": [
       "<div>\n",
       "<style scoped>\n",
       "    .dataframe tbody tr th:only-of-type {\n",
       "        vertical-align: middle;\n",
       "    }\n",
       "\n",
       "    .dataframe tbody tr th {\n",
       "        vertical-align: top;\n",
       "    }\n",
       "\n",
       "    .dataframe thead th {\n",
       "        text-align: right;\n",
       "    }\n",
       "</style>\n",
       "<table border=\"1\" class=\"dataframe\">\n",
       "  <thead>\n",
       "    <tr style=\"text-align: right;\">\n",
       "      <th></th>\n",
       "      <th>ID</th>\n",
       "      <th>f1</th>\n",
       "      <th>f2</th>\n",
       "      <th>f3</th>\n",
       "      <th>f4</th>\n",
       "      <th>f5</th>\n",
       "      <th>f6</th>\n",
       "      <th>f7</th>\n",
       "      <th>f8</th>\n",
       "      <th>f9</th>\n",
       "      <th>...</th>\n",
       "      <th>f158</th>\n",
       "      <th>f159</th>\n",
       "      <th>f160</th>\n",
       "      <th>f161</th>\n",
       "      <th>f162</th>\n",
       "      <th>f163</th>\n",
       "      <th>f164</th>\n",
       "      <th>f165</th>\n",
       "      <th>f166</th>\n",
       "      <th>class</th>\n",
       "    </tr>\n",
       "  </thead>\n",
       "  <tbody>\n",
       "    <tr>\n",
       "      <th>count</th>\n",
       "      <td>6598.00000</td>\n",
       "      <td>6598.000000</td>\n",
       "      <td>6598.000000</td>\n",
       "      <td>6598.000000</td>\n",
       "      <td>6598.000000</td>\n",
       "      <td>6598.000000</td>\n",
       "      <td>6598.000000</td>\n",
       "      <td>6598.000000</td>\n",
       "      <td>6598.000000</td>\n",
       "      <td>6598.000000</td>\n",
       "      <td>...</td>\n",
       "      <td>6598.000000</td>\n",
       "      <td>6598.000000</td>\n",
       "      <td>6598.000000</td>\n",
       "      <td>6598.000000</td>\n",
       "      <td>6598.000000</td>\n",
       "      <td>6598.000000</td>\n",
       "      <td>6598.000000</td>\n",
       "      <td>6598.000000</td>\n",
       "      <td>6598.000000</td>\n",
       "      <td>6598.000000</td>\n",
       "    </tr>\n",
       "    <tr>\n",
       "      <th>mean</th>\n",
       "      <td>3299.50000</td>\n",
       "      <td>58.945135</td>\n",
       "      <td>-119.128524</td>\n",
       "      <td>-73.146560</td>\n",
       "      <td>-0.628372</td>\n",
       "      <td>-103.533495</td>\n",
       "      <td>18.359806</td>\n",
       "      <td>-14.108821</td>\n",
       "      <td>-1.858290</td>\n",
       "      <td>-86.003031</td>\n",
       "      <td>...</td>\n",
       "      <td>-184.798272</td>\n",
       "      <td>-75.795696</td>\n",
       "      <td>-26.073204</td>\n",
       "      <td>64.616702</td>\n",
       "      <td>112.037739</td>\n",
       "      <td>201.760230</td>\n",
       "      <td>-47.488330</td>\n",
       "      <td>-150.259927</td>\n",
       "      <td>41.770233</td>\n",
       "      <td>0.154138</td>\n",
       "    </tr>\n",
       "    <tr>\n",
       "      <th>std</th>\n",
       "      <td>1904.82287</td>\n",
       "      <td>53.249007</td>\n",
       "      <td>90.813375</td>\n",
       "      <td>67.956235</td>\n",
       "      <td>80.444617</td>\n",
       "      <td>64.387559</td>\n",
       "      <td>80.593655</td>\n",
       "      <td>115.315673</td>\n",
       "      <td>90.372537</td>\n",
       "      <td>108.326676</td>\n",
       "      <td>...</td>\n",
       "      <td>107.819514</td>\n",
       "      <td>127.861271</td>\n",
       "      <td>69.727964</td>\n",
       "      <td>100.861935</td>\n",
       "      <td>72.835040</td>\n",
       "      <td>59.526751</td>\n",
       "      <td>55.069365</td>\n",
       "      <td>76.019023</td>\n",
       "      <td>94.116085</td>\n",
       "      <td>0.361108</td>\n",
       "    </tr>\n",
       "    <tr>\n",
       "      <th>min</th>\n",
       "      <td>1.00000</td>\n",
       "      <td>-31.000000</td>\n",
       "      <td>-199.000000</td>\n",
       "      <td>-167.000000</td>\n",
       "      <td>-114.000000</td>\n",
       "      <td>-118.000000</td>\n",
       "      <td>-183.000000</td>\n",
       "      <td>-171.000000</td>\n",
       "      <td>-225.000000</td>\n",
       "      <td>-245.000000</td>\n",
       "      <td>...</td>\n",
       "      <td>-328.000000</td>\n",
       "      <td>-219.000000</td>\n",
       "      <td>-136.000000</td>\n",
       "      <td>-120.000000</td>\n",
       "      <td>-69.000000</td>\n",
       "      <td>73.000000</td>\n",
       "      <td>-289.000000</td>\n",
       "      <td>-428.000000</td>\n",
       "      <td>-471.000000</td>\n",
       "      <td>0.000000</td>\n",
       "    </tr>\n",
       "    <tr>\n",
       "      <th>25%</th>\n",
       "      <td>1650.25000</td>\n",
       "      <td>37.000000</td>\n",
       "      <td>-193.000000</td>\n",
       "      <td>-137.000000</td>\n",
       "      <td>-70.000000</td>\n",
       "      <td>-117.000000</td>\n",
       "      <td>-28.000000</td>\n",
       "      <td>-159.000000</td>\n",
       "      <td>-85.000000</td>\n",
       "      <td>-217.000000</td>\n",
       "      <td>...</td>\n",
       "      <td>-272.000000</td>\n",
       "      <td>-205.000000</td>\n",
       "      <td>-70.000000</td>\n",
       "      <td>-18.000000</td>\n",
       "      <td>71.000000</td>\n",
       "      <td>166.000000</td>\n",
       "      <td>-68.000000</td>\n",
       "      <td>-179.000000</td>\n",
       "      <td>-9.000000</td>\n",
       "      <td>0.000000</td>\n",
       "    </tr>\n",
       "    <tr>\n",
       "      <th>50%</th>\n",
       "      <td>3299.50000</td>\n",
       "      <td>44.000000</td>\n",
       "      <td>-149.000000</td>\n",
       "      <td>-99.000000</td>\n",
       "      <td>-25.000000</td>\n",
       "      <td>-117.000000</td>\n",
       "      <td>33.000000</td>\n",
       "      <td>27.000000</td>\n",
       "      <td>19.000000</td>\n",
       "      <td>-40.000000</td>\n",
       "      <td>...</td>\n",
       "      <td>-234.000000</td>\n",
       "      <td>-131.000000</td>\n",
       "      <td>-21.000000</td>\n",
       "      <td>61.500000</td>\n",
       "      <td>107.000000</td>\n",
       "      <td>191.000000</td>\n",
       "      <td>-60.000000</td>\n",
       "      <td>-150.000000</td>\n",
       "      <td>27.000000</td>\n",
       "      <td>0.000000</td>\n",
       "    </tr>\n",
       "    <tr>\n",
       "      <th>75%</th>\n",
       "      <td>4948.75000</td>\n",
       "      <td>53.000000</td>\n",
       "      <td>-95.000000</td>\n",
       "      <td>-19.000000</td>\n",
       "      <td>42.000000</td>\n",
       "      <td>-116.000000</td>\n",
       "      <td>74.000000</td>\n",
       "      <td>57.000000</td>\n",
       "      <td>61.000000</td>\n",
       "      <td>-21.000000</td>\n",
       "      <td>...</td>\n",
       "      <td>-80.000000</td>\n",
       "      <td>52.000000</td>\n",
       "      <td>9.000000</td>\n",
       "      <td>149.000000</td>\n",
       "      <td>129.000000</td>\n",
       "      <td>215.000000</td>\n",
       "      <td>-45.000000</td>\n",
       "      <td>-120.000000</td>\n",
       "      <td>119.000000</td>\n",
       "      <td>0.000000</td>\n",
       "    </tr>\n",
       "    <tr>\n",
       "      <th>max</th>\n",
       "      <td>6598.00000</td>\n",
       "      <td>292.000000</td>\n",
       "      <td>95.000000</td>\n",
       "      <td>81.000000</td>\n",
       "      <td>161.000000</td>\n",
       "      <td>325.000000</td>\n",
       "      <td>200.000000</td>\n",
       "      <td>220.000000</td>\n",
       "      <td>320.000000</td>\n",
       "      <td>147.000000</td>\n",
       "      <td>...</td>\n",
       "      <td>94.000000</td>\n",
       "      <td>179.000000</td>\n",
       "      <td>192.000000</td>\n",
       "      <td>411.000000</td>\n",
       "      <td>355.000000</td>\n",
       "      <td>625.000000</td>\n",
       "      <td>295.000000</td>\n",
       "      <td>168.000000</td>\n",
       "      <td>367.000000</td>\n",
       "      <td>1.000000</td>\n",
       "    </tr>\n",
       "  </tbody>\n",
       "</table>\n",
       "<p>8 rows × 168 columns</p>\n",
       "</div>"
      ],
      "text/plain": [
       "               ID           f1           f2           f3           f4  \\\n",
       "count  6598.00000  6598.000000  6598.000000  6598.000000  6598.000000   \n",
       "mean   3299.50000    58.945135  -119.128524   -73.146560    -0.628372   \n",
       "std    1904.82287    53.249007    90.813375    67.956235    80.444617   \n",
       "min       1.00000   -31.000000  -199.000000  -167.000000  -114.000000   \n",
       "25%    1650.25000    37.000000  -193.000000  -137.000000   -70.000000   \n",
       "50%    3299.50000    44.000000  -149.000000   -99.000000   -25.000000   \n",
       "75%    4948.75000    53.000000   -95.000000   -19.000000    42.000000   \n",
       "max    6598.00000   292.000000    95.000000    81.000000   161.000000   \n",
       "\n",
       "                f5           f6           f7           f8           f9  ...  \\\n",
       "count  6598.000000  6598.000000  6598.000000  6598.000000  6598.000000  ...   \n",
       "mean   -103.533495    18.359806   -14.108821    -1.858290   -86.003031  ...   \n",
       "std      64.387559    80.593655   115.315673    90.372537   108.326676  ...   \n",
       "min    -118.000000  -183.000000  -171.000000  -225.000000  -245.000000  ...   \n",
       "25%    -117.000000   -28.000000  -159.000000   -85.000000  -217.000000  ...   \n",
       "50%    -117.000000    33.000000    27.000000    19.000000   -40.000000  ...   \n",
       "75%    -116.000000    74.000000    57.000000    61.000000   -21.000000  ...   \n",
       "max     325.000000   200.000000   220.000000   320.000000   147.000000  ...   \n",
       "\n",
       "              f158         f159         f160         f161         f162  \\\n",
       "count  6598.000000  6598.000000  6598.000000  6598.000000  6598.000000   \n",
       "mean   -184.798272   -75.795696   -26.073204    64.616702   112.037739   \n",
       "std     107.819514   127.861271    69.727964   100.861935    72.835040   \n",
       "min    -328.000000  -219.000000  -136.000000  -120.000000   -69.000000   \n",
       "25%    -272.000000  -205.000000   -70.000000   -18.000000    71.000000   \n",
       "50%    -234.000000  -131.000000   -21.000000    61.500000   107.000000   \n",
       "75%     -80.000000    52.000000     9.000000   149.000000   129.000000   \n",
       "max      94.000000   179.000000   192.000000   411.000000   355.000000   \n",
       "\n",
       "              f163         f164         f165         f166        class  \n",
       "count  6598.000000  6598.000000  6598.000000  6598.000000  6598.000000  \n",
       "mean    201.760230   -47.488330  -150.259927    41.770233     0.154138  \n",
       "std      59.526751    55.069365    76.019023    94.116085     0.361108  \n",
       "min      73.000000  -289.000000  -428.000000  -471.000000     0.000000  \n",
       "25%     166.000000   -68.000000  -179.000000    -9.000000     0.000000  \n",
       "50%     191.000000   -60.000000  -150.000000    27.000000     0.000000  \n",
       "75%     215.000000   -45.000000  -120.000000   119.000000     0.000000  \n",
       "max     625.000000   295.000000   168.000000   367.000000     1.000000  \n",
       "\n",
       "[8 rows x 168 columns]"
      ]
     },
     "execution_count": 6,
     "metadata": {},
     "output_type": "execute_result"
    }
   ],
   "source": [
    "df.describe()"
   ]
  },
  {
   "cell_type": "code",
   "execution_count": 7,
   "metadata": {},
   "outputs": [
    {
     "data": {
      "text/plain": [
       "ID                   6598\n",
       "molecule_name         102\n",
       "conformation_name    6598\n",
       "f1                    202\n",
       "f2                    260\n",
       "                     ... \n",
       "f163                  292\n",
       "f164                  172\n",
       "f165                  352\n",
       "f166                  385\n",
       "class                   2\n",
       "Length: 170, dtype: int64"
      ]
     },
     "execution_count": 7,
     "metadata": {},
     "output_type": "execute_result"
    }
   ],
   "source": [
    "df.nunique()"
   ]
  },
  {
   "cell_type": "code",
   "execution_count": 8,
   "metadata": {},
   "outputs": [
    {
     "data": {
      "text/plain": [
       "0    5581\n",
       "1    1017\n",
       "Name: class, dtype: int64"
      ]
     },
     "execution_count": 8,
     "metadata": {},
     "output_type": "execute_result"
    }
   ],
   "source": [
    "df['class'].value_counts() # checking the count of values in Class column"
   ]
  },
  {
   "cell_type": "code",
   "execution_count": 9,
   "metadata": {},
   "outputs": [
    {
     "data": {
      "text/plain": [
       "<AxesSubplot:title={'center':'Bar Graph of 0 and 1 in Class column'}, xlabel='Musk Status', ylabel='No. of Compounds'>"
      ]
     },
     "execution_count": 9,
     "metadata": {},
     "output_type": "execute_result"
    },
    {
     "data": {
      "image/png": "[encoded data removed]",
      "text/plain": [
       "<Figure size 360x360 with 1 Axes>"
      ]
     },
     "metadata": {
      "needs_background": "light"
     },
     "output_type": "display_data"
    }
   ],
   "source": [
    "df['class'].value_counts().plot(kind='bar', figsize = (5,5),xlabel = 'Musk Status',ylabel = 'No. of Compounds', title = 'Bar Graph of 0 and 1 in Class column')\n",
    "# this is not a imbalanced dataset"
   ]
  },
  {
   "cell_type": "code",
   "execution_count": 10,
   "metadata": {},
   "outputs": [
    {
     "data": {
      "text/plain": [
       "count              6598\n",
       "unique              102\n",
       "top       NON-MUSK-j146\n",
       "freq               1044\n",
       "Name: molecule_name, dtype: object"
      ]
     },
     "execution_count": 10,
     "metadata": {},
     "output_type": "execute_result"
    }
   ],
   "source": [
    "df['molecule_name'].describe()"
   ]
  },
  {
   "cell_type": "markdown",
   "metadata": {},
   "source": [
    "# Feature Engineering"
   ]
  },
  {
   "cell_type": "code",
   "execution_count": 11,
   "metadata": {},
   "outputs": [],
   "source": [
    "# Splitting the Features and Target variables\n",
    "X = df.iloc[:, df.columns != 'class'].values # Selecting All columns except Class column \n",
    "y = df.iloc[:, df.columns == 'class'].values"
   ]
  },
  {
   "cell_type": "code",
   "execution_count": 12,
   "metadata": {},
   "outputs": [
    {
     "data": {
      "text/plain": [
       "array([[46, -108, -60, ..., -50, -112, 96],\n",
       "       [41, -188, -145, ..., -61, -136, 79],\n",
       "       [46, -194, -145, ..., -67, -145, 39],\n",
       "       ...,\n",
       "       [44, -102, -19, ..., -66, -144, -6],\n",
       "       [51, -121, -23, ..., -44, -116, 117],\n",
       "       [51, -122, -23, ..., -44, -115, 118]], dtype=object)"
      ]
     },
     "execution_count": 12,
     "metadata": {},
     "output_type": "execute_result"
    }
   ],
   "source": [
    "X = X[:, 3:] # f1 to f166\n",
    "X"
   ]
  },
  {
   "cell_type": "code",
   "execution_count": 13,
   "metadata": {},
   "outputs": [
    {
     "data": {
      "text/plain": [
       "array([[1],\n",
       "       [1],\n",
       "       [1],\n",
       "       ...,\n",
       "       [0],\n",
       "       [0],\n",
       "       [0]], dtype=int64)"
      ]
     },
     "execution_count": 13,
     "metadata": {},
     "output_type": "execute_result"
    }
   ],
   "source": [
    "y"
   ]
  },
  {
   "cell_type": "code",
   "execution_count": 14,
   "metadata": {},
   "outputs": [],
   "source": [
    "# train test split\n",
    "X_train, X_test, y_train, y_test = train_test_split(X,y, test_size = 0.2, random_state = 42)"
   ]
  },
  {
   "cell_type": "code",
   "execution_count": 15,
   "metadata": {},
   "outputs": [],
   "source": [
    "# saving y_test value for later use in evaluation\n",
    "y_test_orig = y_test"
   ]
  },
  {
   "cell_type": "code",
   "execution_count": 16,
   "metadata": {},
   "outputs": [],
   "source": [
    "# Converting X sets into tensors and y sets into binary class matrix (to use in keras model)\n",
    "X_train = tf.convert_to_tensor(X_train, dtype=tf.float32) \n",
    "X_test = tf.convert_to_tensor(X_test, dtype=tf.float32) \n",
    "y_train = to_categorical(y_train)\n",
    "y_test = to_categorical(y_test)"
   ]
  },
  {
   "cell_type": "code",
   "execution_count": 17,
   "metadata": {},
   "outputs": [
    {
     "name": "stdout",
     "output_type": "stream",
     "text": [
      "X_train tf.Tensor(\n",
      "[[  43. -148.   32. ...  -66. -147.   -9.]\n",
      " [  35. -196. -138. ...  -53. -154.  121.]\n",
      " [  47. -195. -107. ...  -72. -179.    9.]\n",
      " ...\n",
      " [  36. -124. -142. ...  -51. -158.  128.]\n",
      " [  58.   26.   49. ...  -40. -127.  138.]\n",
      " [  41. -198. -159. ...  -60. -127.   57.]], shape=(5278, 166), dtype=float32) \n",
      "\n",
      "X_test tf.Tensor(\n",
      "[[  43. -197. -150. ...  -73. -198.   -5.]\n",
      " [  36. -123. -141. ...  -51. -163.  130.]\n",
      " [  38.   69.   30. ...  -70. -244.  -22.]\n",
      " ...\n",
      " [  43. -177.  -37. ...  -68. -161.  -15.]\n",
      " [  38. -133. -141. ...  -45. -178.  150.]\n",
      " [  37. -107.    9. ...  -46. -178.  149.]], shape=(1320, 166), dtype=float32) \n",
      "\n",
      "y_train [[0. 1.]\n",
      " [1. 0.]\n",
      " [1. 0.]\n",
      " ...\n",
      " [1. 0.]\n",
      " [1. 0.]\n",
      " [0. 1.]] \n",
      "\n",
      "y_test [[1. 0.]\n",
      " [1. 0.]\n",
      " [1. 0.]\n",
      " ...\n",
      " [1. 0.]\n",
      " [1. 0.]\n",
      " [1. 0.]]\n"
     ]
    }
   ],
   "source": [
    "print('X_train',X_train,'\\n\\nX_test', X_test,'\\n\\ny_train', y_train, '\\n\\ny_test',y_test )"
   ]
  },
  {
   "cell_type": "markdown",
   "metadata": {},
   "source": [
    "# DNN Classification Model using Keras"
   ]
  },
  {
   "cell_type": "code",
   "execution_count": 18,
   "metadata": {},
   "outputs": [],
   "source": [
    "num_f =  X_train.shape[1] # Number of features = 166\n",
    "num_classes = 2           # Number of classes = 0 and 1"
   ]
  },
  {
   "cell_type": "code",
   "execution_count": 19,
   "metadata": {},
   "outputs": [],
   "source": [
    "# define classification model\n",
    "def classification_model():\n",
    "    # creating model\n",
    "    model = Sequential()\n",
    "    model.add(Dense(num_f, activation='relu', input_shape=(num_f,)))\n",
    "    model.add(Dense(100, activation='relu'))\n",
    "    model.add(Dense(50, activation='relu'))\n",
    "    model.add(Dense(50, activation='relu'))\n",
    "    model.add(Dense(50, activation='relu'))\n",
    "    model.add(Dense(num_classes, activation='softmax'))\n",
    "    \n",
    "    \n",
    "    # compiling model\n",
    "    model.compile(optimizer='adam', loss='categorical_crossentropy', metrics=['accuracy'])\n",
    "    return model"
   ]
  },
  {
   "cell_type": "code",
   "execution_count": 24,
   "metadata": {},
   "outputs": [
    {
     "name": "stdout",
     "output_type": "stream",
     "text": [
      "Epoch 1/60\n",
      "165/165 - 1s - loss: 0.6542 - accuracy: 0.9002 - val_loss: 0.3741 - val_accuracy: 0.8629\n",
      "Epoch 2/60\n",
      "165/165 - 1s - loss: 0.2004 - accuracy: 0.9388 - val_loss: 0.1846 - val_accuracy: 0.9326\n",
      "Epoch 3/60\n",
      "165/165 - 1s - loss: 0.1522 - accuracy: 0.9475 - val_loss: 0.1793 - val_accuracy: 0.9273\n",
      "Epoch 4/60\n",
      "165/165 - 2s - loss: 0.1277 - accuracy: 0.9570 - val_loss: 0.0850 - val_accuracy: 0.9674\n",
      "Epoch 5/60\n",
      "165/165 - 1s - loss: 0.0996 - accuracy: 0.9676 - val_loss: 0.2926 - val_accuracy: 0.9439\n",
      "Epoch 6/60\n",
      "165/165 - 1s - loss: 0.0709 - accuracy: 0.9742 - val_loss: 0.1576 - val_accuracy: 0.9530\n",
      "Epoch 7/60\n",
      "165/165 - 1s - loss: 0.0703 - accuracy: 0.9737 - val_loss: 0.4343 - val_accuracy: 0.9288\n",
      "Epoch 8/60\n",
      "165/165 - 1s - loss: 0.0846 - accuracy: 0.9716 - val_loss: 0.0589 - val_accuracy: 0.9758\n",
      "Epoch 9/60\n",
      "165/165 - 1s - loss: 0.0569 - accuracy: 0.9784 - val_loss: 0.1075 - val_accuracy: 0.9742\n",
      "Epoch 10/60\n",
      "165/165 - 1s - loss: 0.0709 - accuracy: 0.9727 - val_loss: 0.0696 - val_accuracy: 0.9674\n",
      "Epoch 11/60\n",
      "165/165 - 1s - loss: 0.0452 - accuracy: 0.9818 - val_loss: 0.0644 - val_accuracy: 0.9758\n",
      "Epoch 12/60\n",
      "165/165 - 2s - loss: 0.0449 - accuracy: 0.9843 - val_loss: 0.0319 - val_accuracy: 0.9856\n",
      "Epoch 13/60\n",
      "165/165 - 2s - loss: 0.0599 - accuracy: 0.9814 - val_loss: 0.0489 - val_accuracy: 0.9818\n",
      "Epoch 14/60\n",
      "165/165 - 2s - loss: 0.0586 - accuracy: 0.9807 - val_loss: 0.0567 - val_accuracy: 0.9765\n",
      "Epoch 15/60\n",
      "165/165 - 1s - loss: 0.0652 - accuracy: 0.9780 - val_loss: 0.0434 - val_accuracy: 0.9826\n",
      "Epoch 16/60\n",
      "165/165 - 1s - loss: 0.0319 - accuracy: 0.9883 - val_loss: 0.0293 - val_accuracy: 0.9856\n",
      "Epoch 17/60\n",
      "165/165 - 1s - loss: 0.0219 - accuracy: 0.9913 - val_loss: 0.0253 - val_accuracy: 0.9902\n",
      "Epoch 18/60\n",
      "165/165 - 2s - loss: 0.0180 - accuracy: 0.9936 - val_loss: 0.0494 - val_accuracy: 0.9864\n",
      "Epoch 19/60\n",
      "165/165 - 2s - loss: 0.0385 - accuracy: 0.9873 - val_loss: 0.1619 - val_accuracy: 0.9470\n",
      "Epoch 20/60\n",
      "165/165 - 1s - loss: 0.0604 - accuracy: 0.9854 - val_loss: 0.0272 - val_accuracy: 0.9902\n",
      "Epoch 21/60\n",
      "165/165 - 1s - loss: 0.0168 - accuracy: 0.9947 - val_loss: 0.0218 - val_accuracy: 0.9917\n",
      "Epoch 22/60\n",
      "165/165 - 1s - loss: 0.0207 - accuracy: 0.9922 - val_loss: 0.0253 - val_accuracy: 0.9917\n",
      "Epoch 23/60\n",
      "165/165 - 1s - loss: 0.0152 - accuracy: 0.9947 - val_loss: 0.0139 - val_accuracy: 0.9939\n",
      "Epoch 24/60\n",
      "165/165 - 1s - loss: 0.0511 - accuracy: 0.9845 - val_loss: 0.0390 - val_accuracy: 0.9864\n",
      "Epoch 25/60\n",
      "165/165 - 1s - loss: 0.0195 - accuracy: 0.9920 - val_loss: 0.0246 - val_accuracy: 0.9917\n",
      "Epoch 26/60\n",
      "165/165 - 1s - loss: 0.0343 - accuracy: 0.9905 - val_loss: 0.0439 - val_accuracy: 0.9841\n",
      "Epoch 27/60\n",
      "165/165 - 1s - loss: 0.0433 - accuracy: 0.9856 - val_loss: 0.0372 - val_accuracy: 0.9879\n",
      "Epoch 28/60\n",
      "165/165 - 1s - loss: 0.0305 - accuracy: 0.9911 - val_loss: 0.0155 - val_accuracy: 0.9962\n",
      "Epoch 29/60\n",
      "165/165 - 1s - loss: 0.0284 - accuracy: 0.9905 - val_loss: 0.0104 - val_accuracy: 0.9962\n",
      "Epoch 30/60\n",
      "165/165 - 1s - loss: 0.0055 - accuracy: 0.9983 - val_loss: 0.0165 - val_accuracy: 0.9939\n",
      "Epoch 31/60\n",
      "165/165 - 1s - loss: 0.0085 - accuracy: 0.9964 - val_loss: 0.0165 - val_accuracy: 0.9924\n",
      "Epoch 32/60\n",
      "165/165 - 1s - loss: 0.0055 - accuracy: 0.9977 - val_loss: 0.0047 - val_accuracy: 0.9985\n",
      "Epoch 33/60\n",
      "165/165 - 1s - loss: 5.2266e-04 - accuracy: 1.0000 - val_loss: 0.0017 - val_accuracy: 1.0000\n",
      "Epoch 34/60\n",
      "165/165 - 1s - loss: 0.0069 - accuracy: 0.9975 - val_loss: 0.0152 - val_accuracy: 0.9932\n",
      "Epoch 35/60\n",
      "165/165 - 1s - loss: 0.0496 - accuracy: 0.9869 - val_loss: 0.0234 - val_accuracy: 0.9894\n",
      "Epoch 36/60\n",
      "165/165 - 1s - loss: 0.0243 - accuracy: 0.9934 - val_loss: 0.0779 - val_accuracy: 0.9818\n",
      "Epoch 37/60\n",
      "165/165 - 2s - loss: 0.0392 - accuracy: 0.9867 - val_loss: 0.0184 - val_accuracy: 0.9924\n",
      "Epoch 38/60\n",
      "165/165 - 2s - loss: 0.0087 - accuracy: 0.9975 - val_loss: 0.0098 - val_accuracy: 0.9955\n",
      "Epoch 39/60\n",
      "165/165 - 1s - loss: 0.0042 - accuracy: 0.9991 - val_loss: 0.0422 - val_accuracy: 0.9939\n",
      "Epoch 40/60\n",
      "165/165 - 1s - loss: 0.0302 - accuracy: 0.9920 - val_loss: 0.0147 - val_accuracy: 0.9932\n",
      "Epoch 41/60\n",
      "165/165 - 1s - loss: 0.0212 - accuracy: 0.9926 - val_loss: 0.0130 - val_accuracy: 0.9939\n",
      "Epoch 42/60\n",
      "165/165 - 1s - loss: 0.0192 - accuracy: 0.9945 - val_loss: 0.0157 - val_accuracy: 0.9939\n",
      "Epoch 43/60\n",
      "165/165 - 1s - loss: 0.0083 - accuracy: 0.9979 - val_loss: 0.0330 - val_accuracy: 0.9917\n",
      "Epoch 44/60\n",
      "165/165 - 1s - loss: 0.0195 - accuracy: 0.9924 - val_loss: 0.0050 - val_accuracy: 0.9985\n",
      "Epoch 45/60\n",
      "165/165 - 2s - loss: 0.0465 - accuracy: 0.9856 - val_loss: 0.0453 - val_accuracy: 0.9818\n",
      "Epoch 46/60\n",
      "165/165 - 2s - loss: 0.0164 - accuracy: 0.9945 - val_loss: 0.0239 - val_accuracy: 0.9909\n",
      "Epoch 47/60\n",
      "165/165 - 2s - loss: 0.0059 - accuracy: 0.9981 - val_loss: 0.0137 - val_accuracy: 0.9962\n",
      "Epoch 48/60\n",
      "165/165 - 1s - loss: 0.0047 - accuracy: 0.9996 - val_loss: 0.0025 - val_accuracy: 0.9992\n",
      "Epoch 49/60\n",
      "165/165 - 2s - loss: 1.3822e-04 - accuracy: 1.0000 - val_loss: 0.0024 - val_accuracy: 0.9992\n",
      "Epoch 50/60\n",
      "165/165 - 2s - loss: 5.8478e-05 - accuracy: 1.0000 - val_loss: 0.0025 - val_accuracy: 0.9992\n",
      "Epoch 51/60\n",
      "165/165 - 2s - loss: 4.0360e-05 - accuracy: 1.0000 - val_loss: 0.0026 - val_accuracy: 0.9992\n",
      "Epoch 52/60\n",
      "165/165 - 2s - loss: 2.9749e-05 - accuracy: 1.0000 - val_loss: 0.0028 - val_accuracy: 0.9992\n",
      "Epoch 53/60\n",
      "165/165 - 1s - loss: 2.2722e-05 - accuracy: 1.0000 - val_loss: 0.0028 - val_accuracy: 0.9992\n",
      "Epoch 54/60\n",
      "165/165 - 1s - loss: 1.8225e-05 - accuracy: 1.0000 - val_loss: 0.0027 - val_accuracy: 0.9992\n",
      "Epoch 55/60\n",
      "165/165 - 1s - loss: 1.4926e-05 - accuracy: 1.0000 - val_loss: 0.0024 - val_accuracy: 0.9992\n",
      "Epoch 56/60\n",
      "165/165 - 1s - loss: 1.2343e-05 - accuracy: 1.0000 - val_loss: 0.0021 - val_accuracy: 0.9992\n",
      "Epoch 57/60\n",
      "165/165 - 1s - loss: 1.0318e-05 - accuracy: 1.0000 - val_loss: 0.0020 - val_accuracy: 0.9992\n",
      "Epoch 58/60\n",
      "165/165 - 1s - loss: 8.7402e-06 - accuracy: 1.0000 - val_loss: 0.0018 - val_accuracy: 0.9992\n",
      "Epoch 59/60\n",
      "165/165 - 1s - loss: 7.4496e-06 - accuracy: 1.0000 - val_loss: 0.0016 - val_accuracy: 0.9992\n",
      "Epoch 60/60\n",
      "165/165 - 1s - loss: 6.3410e-06 - accuracy: 1.0000 - val_loss: 0.0014 - val_accuracy: 0.9992\n"
     ]
    }
   ],
   "source": [
    "# building the model\n",
    "model = classification_model()\n",
    "\n",
    "# fitting the model\n",
    "history = model.fit(X_train, y_train, validation_data=(X_test, y_test), epochs=60, verbose=2)\n",
    "\n",
    "# evaluating the model\n",
    "scores = model.evaluate(X_test, y_test, verbose=0)"
   ]
  },
  {
   "cell_type": "markdown",
   "metadata": {},
   "source": [
    "# Model Evaluation"
   ]
  },
  {
   "cell_type": "code",
   "execution_count": 35,
   "metadata": {},
   "outputs": [
    {
     "data": {
      "text/plain": [
       "array([[1111,    0],\n",
       "       [   1,  208]], dtype=int64)"
      ]
     },
     "execution_count": 35,
     "metadata": {},
     "output_type": "execute_result"
    }
   ],
   "source": [
    "# Confusion matrix\n",
    "confusion_matrix(y_test_orig,model.predict_classes(X_test))"
   ]
  },
  {
   "cell_type": "code",
   "execution_count": 48,
   "metadata": {},
   "outputs": [
    {
     "name": "stdout",
     "output_type": "stream",
     "text": [
      "f1_score: 0.9976019184652278\n",
      "precision: 1.0\n",
      "recall: 0.9952153110047847\n",
      "Validation Loss: 0.001435200567357242\n",
      "Validation Accuracy: 0.9992424249649048\n"
     ]
    }
   ],
   "source": [
    "print(\"f1_score:\",f1_score(y_test_orig,model.predict_classes(X_test)))\n",
    "print(\"precision:\",precision_score(y_test_orig,model.predict_classes(X_test)))\n",
    "print(\"recall:\",recall_score(y_test_orig,model.predict_classes(X_test)))\n",
    "print(\"Validation Loss:\",scores[0])\n",
    "print(\"Validation Accuracy:\",scores[1])"
   ]
  },
  {
   "cell_type": "code",
   "execution_count": 52,
   "metadata": {},
   "outputs": [
    {
     "data": {
      "image/png": "[encoded data removed]",
      "text/plain": [
       "<Figure size 1080x504 with 1 Axes>"
      ]
     },
     "metadata": {
      "needs_background": "light"
     },
     "output_type": "display_data"
    }
   ],
   "source": [
    "%matplotlib inline\n",
    "\n",
    "# summarize history for accuracy\n",
    "plt.figure(figsize=(15,7))\n",
    "plt.plot(history.history['accuracy'])\n",
    "plt.plot(history.history['val_accuracy'])\n",
    "plt.title('model accuracy')\n",
    "plt.ylabel('accuracy')\n",
    "plt.xlabel('epoch')\n",
    "plt.legend(['train', 'validation'], loc='lower right')\n",
    "plt.grid()\n",
    "\n",
    "plt.show()\n"
   ]
  },
  {
   "cell_type": "code",
   "execution_count": 53,
   "metadata": {},
   "outputs": [
    {
     "data": {
      "image/png": "[encoded data removed]",
      "text/plain": [
       "<Figure size 1080x504 with 1 Axes>"
      ]
     },
     "metadata": {
      "needs_background": "light"
     },
     "output_type": "display_data"
    }
   ],
   "source": [
    "# summarize history for loss\n",
    "plt.figure(figsize=(15,7))\n",
    "plt.plot(history.history['loss'])\n",
    "plt.plot(history.history['val_loss'])\n",
    "plt.title('model loss')\n",
    "plt.ylabel('loss')\n",
    "plt.xlabel('epoch')\n",
    "plt.legend(['train', 'validation'], loc='upper right')\n",
    "plt.grid()\n",
    "plt.show()"
   ]
  },
  {
   "cell_type": "code",
   "execution_count": 42,
   "metadata": {},
   "outputs": [],
   "source": [
    "# Saving Model in h5 format\n",
    "filepath = 'model.h5'\n",
    "model.save(filepath)"
   ]
  },
  {
   "cell_type": "markdown",
   "metadata": {},
   "source": [
    "##################################### A Notebook by Ajay Chouhan ##########################################"
   ]
  }
 ],
 "metadata": {
  "kernelspec": {
   "display_name": "Python 3",
   "language": "python",
   "name": "python3"
  },
  "language_info": {
   "codemirror_mode": {
    "name": "ipython",
    "version": 3
   },
   "file_extension": ".py",
   "mimetype": "text/x-python",
   "name": "python",
   "nbconvert_exporter": "python",
   "pygments_lexer": "ipython3",
   "version": "3.6.12"
  }
 },
 "nbformat": 4,
 "nbformat_minor": 4
}
